{
  "nbformat": 4,
  "nbformat_minor": 0,
  "metadata": {
    "colab": {
      "name": "Untitled1.ipynb",
      "provenance": [],
      "authorship_tag": "ABX9TyP067G8xVmeu2mKLKjVlCjw",
      "include_colab_link": true
    },
    "kernelspec": {
      "name": "python3",
      "display_name": "Python 3"
    }
  },
  "cells": [
    {
      "cell_type": "markdown",
      "metadata": {
        "id": "view-in-github",
        "colab_type": "text"
      },
      "source": [
        "<a href=\"https://colab.research.google.com/github/Mijewljose/calculator/blob/master/Untitled1.ipynb\" target=\"_parent\"><img src=\"https://colab.research.google.com/assets/colab-badge.svg\" alt=\"Open In Colab\"/></a>"
      ]
    },
    {
      "cell_type": "code",
      "metadata": {
        "colab": {
          "base_uri": "https://localhost:8080/"
        },
        "id": "_80rikcNCbdz",
        "outputId": "a178d2ec-7db5-4cf3-9cbc-6bb5b13910be"
      },
      "source": [
        "print (\"enter 4 marks\")\n",
        "m1 = int(input())\n",
        "m2= int (input())\n",
        "m3= int (input())\n",
        "m4 =int (input())\n",
        "average = m1+m2+m3+m4\n",
        "if (average >50):\n",
        "  print (\"pass\")\n",
        "else :\n",
        "  print (\"fail\")  "
      ],
      "execution_count": 5,
      "outputs": [
        {
          "output_type": "stream",
          "text": [
            "enter 4 marks\n",
            "2\n",
            "6\n",
            "3\n",
            "5\n",
            "fail\n"
          ],
          "name": "stdout"
        }
      ]
    }
  ]
}